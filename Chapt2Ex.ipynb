{
 "cells": [
  {
   "cell_type": "code",
   "execution_count": 9,
   "id": "2ec76d3a",
   "metadata": {},
   "outputs": [],
   "source": [
    "import numpy as np"
   ]
  },
  {
   "cell_type": "code",
   "execution_count": 2,
   "id": "c3c85f02",
   "metadata": {},
   "outputs": [
    {
     "name": "stdout",
     "output_type": "stream",
     "text": [
      "Type height of cliff:20\n",
      "The time it took for the ball to hit the ground is 2.019275109384609\n"
     ]
    }
   ],
   "source": [
    "#Ex. 2.1\n",
    "h = float(input(\"Type height of cliff:\"))\n",
    "g = 9.81 # acceleration due to gravity m/s^2\n",
    "t = np.sqrt(2*h/g)\n",
    "print(\"The time it took for the ball to hit the ground is {}\".format(t))"
   ]
  },
  {
   "cell_type": "code",
   "execution_count": 11,
   "id": "84da1a0f",
   "metadata": {},
   "outputs": [
    {
     "name": "stdout",
     "output_type": "stream",
     "text": [
      "Type orbital period in second:100\n",
      "The altitude of an object with orbital period 100.0s is  -5905506.655312314m\n"
     ]
    }
   ],
   "source": [
    "#Ex. 2.2\n",
    "# part b\n",
    "T = float(input(\"Type orbital period in second:\"))\n",
    "G = 6.67 * (10**(-11)) #m^3 * kg^(-1) * s^(-2)\n",
    "M = 5.97 * (10**(24))  #kg\n",
    "R = 6371 * (10**(3))   #m\n",
    "\n",
    "alt = ((G * M * (T**2) /(4 * (np.pi**2)))**(1/3)) - R\n",
    "print(\"The altitude of an object with orbital period {}s is  {}m\".format(T, alt))"
   ]
  },
  {
   "cell_type": "code",
   "execution_count": 6,
   "id": "efb43ce0",
   "metadata": {},
   "outputs": [
    {
     "name": "stdout",
     "output_type": "stream",
     "text": [
      "The altitude of an object with orbital period 2700s is  -2181559.8978108233m\n",
      "The altitude of an object with orbital period 5400s is  279321.62537285965m\n"
     ]
    }
   ],
   "source": [
    "# part c\n",
    "T_Times = [2700,5400] #s for 45 and 90mins\n",
    "for t in T_Times:\n",
    "    altitude = ((G * M * (t**2) /(4 * (np.pi**2)))**(1/3)) - R\n",
    "    print(\"The altitude of an object with orbital period {}s is  {}m\".format(t, altitude))\n",
    "    "
   ]
  },
  {
   "cell_type": "code",
   "execution_count": 10,
   "id": "5419a01d",
   "metadata": {},
   "outputs": [
    {
     "name": "stdout",
     "output_type": "stream",
     "text": [
      "The altitude of an object with orbital period 86040s is  35738531.5960198m\n",
      "The altitude of an object with orbital period 86400s is  35855910.17617497m\n"
     ]
    }
   ],
   "source": [
    "# part d\n",
    "T2_Times = [86040,86400] #s for 45 and 90mins\n",
    "for t in T2_Times:\n",
    "    altitude = ((G * M * (t**2) /(4 * (np.pi**2)))**(1/3)) - R\n",
    "    print(\"The altitude of an object with orbital period {}s is  {}m\".format(t, altitude))\n",
    "    "
   ]
  },
  {
   "cell_type": "code",
   "execution_count": 14,
   "id": "f6793575",
   "metadata": {},
   "outputs": [
    {
     "name": "stdout",
     "output_type": "stream",
     "text": [
      "Give a value for x:1\n",
      "Give a value for y:1\n",
      "The value of r is 1.4142135623730951 and the value of ϴ is 0.7853981633974483°\n"
     ]
    }
   ],
   "source": [
    "#Ex. 2.3 x,y --> r,theta\n",
    "\n",
    "x = float(input(\"Give a value for x:\"))\n",
    "y = float(input(\"Give a value for y:\"))\n",
    "\n",
    "r = np.sqrt((x**2) + (y**2))\n",
    "theta = np.arctan(y/x)\n",
    "print(\"The value of r is {} and the value of \\u03F4 is {}\\u00B0\".format(r,theta))"
   ]
  },
  {
   "cell_type": "code",
   "execution_count": null,
   "id": "eab3c9b4",
   "metadata": {},
   "outputs": [],
   "source": [
    "#Ex. 2.4\n",
    "\n",
    "v = float(input(\"Type speed of the ship in units of the speed of light(c):\"))\n",
    "x = float(input(\"Type distance of the planet in units of light years(ly)):\"))\n",
    "\n",
    "\n"
   ]
  }
 ],
 "metadata": {
  "kernelspec": {
   "display_name": "Python 3 (ipykernel)",
   "language": "python",
   "name": "python3"
  },
  "language_info": {
   "codemirror_mode": {
    "name": "ipython",
    "version": 3
   },
   "file_extension": ".py",
   "mimetype": "text/x-python",
   "name": "python",
   "nbconvert_exporter": "python",
   "pygments_lexer": "ipython3",
   "version": "3.8.12"
  }
 },
 "nbformat": 4,
 "nbformat_minor": 5
}
